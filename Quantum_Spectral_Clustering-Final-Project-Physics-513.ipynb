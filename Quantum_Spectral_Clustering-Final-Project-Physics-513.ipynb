{
 "cells": [
  {
   "cell_type": "code",
   "execution_count": 3,
   "id": "6017e5b5-5fac-45f1-a3a1-8b2ab5faf571",
   "metadata": {
    "tags": []
   },
   "outputs": [],
   "source": [
    "# Importing standard Qiskit libraries\n",
    "from qiskit import QuantumCircuit, transpile\n",
    "from qiskit.tools.jupyter import *\n",
    "from qiskit.visualization import *\n",
    "\n",
    "from qiskit import Aer, IBMQ, assemble, execute, BasicAer, ClassicalRegister, QuantumRegister\n",
    "from qiskit.quantum_info.operators import Operator\n",
    "from qiskit.tools.jupyter import *\n",
    "from qiskit.visualization import *\n",
    "from qiskit.visualization import plot_histogram\n",
    "from qiskit.circuit import Gate, Parameter\n",
    "from qiskit.providers.aer import QasmSimulator\n",
    "from qiskit.providers.basicaer import QasmSimulatorPy\n",
    "from qiskit.compiler import transpile\n",
    "from qiskit.quantum_info.operators import Operator, Pauli\n",
    "from qiskit.circuit.library.standard_gates import RYGate\n",
    "\n",
    "# Invoke a primitive inside a session. For more details see https://qiskit.org/documentation/partners/qiskit_ibm_runtime/tutorials.html\n",
    "# with Session(backend=service.backend(\"ibmq_qasm_simulator\")):\n",
    "#     result = Sampler().run(circuits).result()"
   ]
  },
  {
   "cell_type": "code",
   "execution_count": 12,
   "id": "abb8dfb9-3e59-492f-a570-b7f7c786433f",
   "metadata": {
    "tags": []
   },
   "outputs": [
    {
     "data": {
      "image/png": "[encoded data removed]",
      "text/plain": [
       "<Figure size 640x480 with 1 Axes>"
      ]
     },
     "metadata": {},
     "output_type": "display_data"
    }
   ],
   "source": [
    "from sklearn.datasets import make_blobs, make_circles\n",
    "import matplotlib.pyplot as plt\n",
    "from pandas import DataFrame\n",
    "from math import log2, ceil, pi\n",
    "import numpy as np\n",
    "from sklearn import preprocessing\n",
    "\n",
    "\n",
    "\n",
    "e0 = 0.001\n",
    "N_size = 4\n",
    "encoding_bits = int(ceil(log2(N_size)))\n",
    "rescale_factor = 1\n",
    "\n",
    "\n",
    "minmax_scale = preprocessing.MinMaxScaler(feature_range=(0, rescale_factor))\n",
    "\n",
    "\n",
    "# X_temp,y_circ = make_circles(n_samples=256, noise=0.025, random_state=5465)\n",
    "# X_circ = minmax_scale.fit_transform(X_temp) # scale the data from 0-100\n",
    "\n",
    "\n",
    "# df = DataFrame(dict(x=X_circ[:,0], y=X_circ[:,1], label=y_circ))\n",
    "# colors = {0:'red', 1:'blue'}\n",
    "# fig, ax = plt.subplots()\n",
    "# grouped = df.groupby('label')\n",
    "# for key, group in grouped:\n",
    "#     group.plot(ax=ax, kind='scatter', x='x', y='y', label=key, color=colors[key])\n",
    "# plt.show()\n",
    "\n",
    "X_temp,y_blobs = make_blobs(n_samples=N_size, n_features=1, random_state=4343, centers=2)\n",
    "X_blobs = minmax_scale.fit_transform(X_temp) # scale the data from 0-100\n",
    "\n",
    "# scatter plot, dots colored by class value\n",
    "df = DataFrame(dict(x=X_blobs[:,0], y=1, label=y_blobs))\n",
    "colors = {0:'red', 1:'blue', 2:'green'}\n",
    "fig, ax = plt.subplots()\n",
    "grouped = df.groupby('label')\n",
    "for key, group in grouped:\n",
    "    group.plot(ax=ax, kind='scatter', x='x', y='y', label=key, color=colors[key])\n",
    "plt.show()"
   ]
  },
  {
   "cell_type": "code",
   "execution_count": 9,
   "id": "e7986d9a",
   "metadata": {},
   "outputs": [
    {
     "name": "stdout",
     "output_type": "stream",
     "text": [
      "[[  0.        ]\n",
      " [ 91.41239133]\n",
      " [100.        ]\n",
      " [ 25.5130207 ]]\n"
     ]
    }
   ],
   "source": [
    "print(X_blobs)"
   ]
  },
  {
   "cell_type": "code",
   "execution_count": 83,
   "id": "514f52da-0392-407f-8c6b-0fbb92dcc3af",
   "metadata": {
    "tags": []
   },
   "outputs": [
    {
     "name": "stdout",
     "output_type": "stream",
     "text": [
      "range(0, 8)\n"
     ]
    }
   ],
   "source": [
    "vertex = range(X_blobs.shape[0])\n",
    "print(vertex)\n",
    "# step 1: build verteces and edges to make graph: G = (V,E)\n",
    "# step 2: build the W matrix which is symmetric using RBF_kernel and remove the 1's across the diagonal\n",
    "# step 3: buld D which the sum across axis=1 \n",
    "# step 4: build laplacian, L = D-W\n",
    "# step 5: normalize laplacian, L_s = D^(-1/2)*L*D^(-1/2)\n"
   ]
  },
  {
   "cell_type": "code",
   "execution_count": 38,
   "id": "1fa60248-3a80-4222-a7b6-f3d8007a3268",
   "metadata": {
    "tags": []
   },
   "outputs": [],
   "source": [
    "# set up the initial space\n",
    "# n = log2(N), where N is dataset size\n",
    "# t = n + round up(2 + log2(1/2*e0) where e0 is the error rate of phase estimation, we will choose e0 = 0.001\n",
    "\n",
    "def unitary_in(qc,t,n):\n",
    "    # entangle the states\n",
    "    for i in range(n):\n",
    "        qc.h(t+i)\n",
    "        qc.cx(t+i,t+n+i)\n",
    "\n",
    "def unitary_phase_estimation(qc,t,n):\n",
    "    for i in range(t):\n",
    "        qc.h(i)\n",
    "    repetitions = 1\n",
    "    for counting_qubit in range(t):\n",
    "        for i in range(repetitions):\n",
    "            qc.cp(pi/4, counting_qubit, t); # controlled-T\n",
    "        repetitions *= 2\n",
    "\n",
    "def NormalizedLaplaceTransform(W):\n",
    "    # print(f\"W orginial: {W}\")\n",
    "    diag_elements = np.diag(np.diag(W))\n",
    "    W = W-diag_elements\n",
    "    # print(f\"W with diagonals as zero:{W}\")\n",
    "    diagment = np.sum(W,axis=1)\n",
    "    D=np.diag(diagment)\n",
    "    # print(f\"D:{D}\")\n",
    "    L = D-W\n",
    "    # print(f\"L:{L}\")\n",
    "    D_sqrt = np.sqrt(np.linalg.inv(D))\n",
    "    # print(f\"D_sqrt:{D_sqrt}\")\n",
    "    l_norm = np.matmul(D_sqrt,np.matmul(L,D_sqrt))\n",
    "    # print(f\"l_norm:{l_norm}\")\n",
    "    return l_norm\n",
    "\n",
    "def get_adjacency_and_weight_matrix(raw_data, n_nearest_neighbors):\n",
    "    n = len(raw_data)\n",
    "    \n",
    "    from sklearn.neighbors import NearestNeighbors\n",
    "    nbrs = NearestNeighbors(n_neighbors=n_nearest_neighbors, algorithm='auto').fit(raw_data)\n",
    "    distances, indices = nbrs.kneighbors(raw_data)\n",
    "\n",
    "    from sklearn.metrics.pairwise import rbf_kernel\n",
    "    rbf = rbf_kernel(raw_data) # input must be np.array\n",
    "\n",
    "    # only add weights if indices correspond to a connection\n",
    "    weight_matrix = np.zeros((n,n))\n",
    "    for i in range(len(indices)):\n",
    "        for j in indices[i]:\n",
    "            weight_matrix[i,j] = rbf[i][j]\n",
    "    \n",
    "    adjacency = nbrs.kneighbors_graph(raw_data).toarray()\n",
    "    return adjacency, weight_matrix\n",
    "\n",
    "def get_binary_number(x,n):\n",
    "    return format(x, 'b').zfill(n)\n",
    "\n",
    "##########################################################################################\n",
    "##########################################################################################\n",
    "\n",
    "def quantum_circuit(circuit, qubits, image_array, row):\n",
    "    ###### NNNEEEEEDDDD TOOOOO FIXXXXXX THIISSSSSSS ###############\n",
    "    # changed: encoding_bits,\n",
    "    circuit.h(np.arange(qubits-1))\n",
    "\n",
    "    for col in range(image_array.shape[0]):\n",
    "        control_state = get_binary_number(col,encoding_bits)\n",
    "\n",
    "        RYj = Operator(RYGate(pi/N_size*image_array[col]).control(encoding_bits, label = 'Pixel '+str(col), ctrl_state=control_state))\n",
    "        RYi = Operator(RYGate(-pi/N_size*image_array[row]).control(encoding_bits, label = 'Pixel '+str(row), ctrl_state=control_state))\n",
    "\n",
    "        circuit.append(RYi.compose(RYj), range(qubits))\n",
    "    circuit.measure(range(qubits), range(qubits))\n",
    "    return circuit\n",
    "\n",
    "\n",
    "def measure_circuit(qde, backend, n_shots):\n",
    "    job = backend.run(transpile(qde, backend), shots=n_shots)\n",
    "    counts = job.result().get_counts()\n",
    "    return counts\n",
    "\n",
    "\n",
    "def retrieve_matrix_from_measurements(qubits, counts):\n",
    "    measurements = np.array([0 for i in range(len(counts))])\n",
    "    states_list = [0 for i in range(len(counts))]\n",
    "    measurements, states_list = obtain_measurements_and_states_from_counts(counts, measurements, states_list)\n",
    "    prob_array = obtain_probability_array(measurements, states_list, qubits)\n",
    "    retrieved_image = np.arccos(np.sqrt(prob_array))*512/pi\n",
    "    return retrieved_image\n",
    "\n",
    "\n",
    "def obtain_measurements_and_states_from_counts(counts, measure_array, states_array):\n",
    "    num = 0\n",
    "    for bitstring, measure in counts.items():\n",
    "        measure_array[num] = measure\n",
    "        states_array[num] = int(bitstring,2)\n",
    "        num += 1\n",
    "    return measure_array, states_array\n",
    "\n",
    "\n",
    "def obtain_probability_array(measure_array, states_array, qubits):\n",
    "    index = np.argsort(states_array)\n",
    "    measure_array = measure_array[index]\n",
    "    prob_array = measure_array*(1/measure_array.sum())\n",
    "    prob_array = check_numbers((2**(qubits-1))*prob_array[:2**(qubits-1)])\n",
    "    return prob_array\n",
    "\n",
    "\n",
    "##########################################################################################\n",
    "##########################################################################################\n",
    "\n",
    "def compute_edges(matrix):\n",
    "    edges = [] # Initialize the list\n",
    "    for i in range(matrix.shape[0]):\n",
    "        for j in range(matrix.shape[1]): # for every column and row, do\n",
    "            if matrix[i][j]!=0 and i!=j: # Except when the values of the adj matrix are 0\n",
    "                edges.append((i, j)) # Append the value of the column and row\n",
    "    return edges\n",
    "\n",
    "def compute_laplacian(data, data_size, k_clusters):\n",
    "    # initialize circuit\n",
    "    n = ceil(log2(data_size))\n",
    "    t = n + int(ceil(2 + log2(1/(2*e0))))\n",
    "    user_selected_d = n\n",
    "    \n",
    "    # print(t+n+n)\n",
    "    # must be t+n+n qubits\n",
    "    qubits = t+n+n\n",
    "    # qc = QuantumCircuit(qubits,qubits)\n",
    "    \n",
    "    adjacency, weight_matrix = get_adjacency_and_weight_matrix(data, user_selected_d)\n",
    "\n",
    "    normalized_laplacian = NormalizedLaplaceTransform(weight_matrix)/(2*user_selected_d) # just to get eigenvalues from [0,1], doesn't change eigenvectors\n",
    "\n",
    "    print(f\"normalized_laplacian:{normalized_laplacian}\")\n",
    "\n",
    "    # print(laplacian)\n",
    "    from numpy.linalg import eig\n",
    "    # print(\"verify laplacian has eigenvalues 0 <= lambda\")\n",
    "    \n",
    "    print(f\"eig(laplacian):{eig(normalized_laplacian)}\")\n",
    "\n",
    "    return normalized_laplacian\n"
   ]
  },
  {
   "cell_type": "code",
   "execution_count": 42,
   "id": "22072568-df9b-4265-ac4c-d9bbbf433242",
   "metadata": {
    "tags": []
   },
   "outputs": [
    {
     "name": "stdout",
     "output_type": "stream",
     "text": [
      "normalized_laplacian:[[ 0.25  0.    0.   -0.25]\n",
      " [ 0.    0.25 -0.25  0.  ]\n",
      " [ 0.   -0.25  0.25  0.  ]\n",
      " [-0.25  0.    0.    0.25]]\n",
      "eig(laplacian):(array([0.5, 0. , 0.5, 0. ]), array([[ 0.70710678,  0.70710678,  0.        ,  0.        ],\n",
      "       [ 0.        ,  0.        , -0.70710678,  0.70710678],\n",
      "       [ 0.        ,  0.        ,  0.70710678,  0.70710678],\n",
      "       [-0.70710678,  0.70710678,  0.        ,  0.        ]]))\n"
     ]
    }
   ],
   "source": [
    "N = len(X_blobs)\n",
    "n = ceil(log2(N))\n",
    "user_selected_d = n\n",
    "normalized_laplacian = compute_laplacian(X_blobs, N, k_clusters=2)"
   ]
  },
  {
   "cell_type": "code",
   "execution_count": 44,
   "id": "675557b3-6b62-4711-98fa-4c93905115f7",
   "metadata": {},
   "outputs": [],
   "source": [
    "\"\"\"\n",
    "Get d smallest eigenvalues\n",
    "\"\"\"\n",
    "import scipy.sparse.linalg as sla\n",
    "eigenvalues, eigenvectors = sla.eigs(normalized_laplacian, user_selected_d, which='SM') \n",
    "# print(eigenvectors)\n"
   ]
  },
  {
   "cell_type": "code",
   "execution_count": null,
   "id": "6d52ef11-c511-4f3e-bb51-b36550647b81",
   "metadata": {
    "tags": []
   },
   "outputs": [],
   "source": []
  },
  {
   "cell_type": "code",
   "execution_count": null,
   "id": "bfa73bfc-1ff0-4d8e-90f7-8906eae0a7d3",
   "metadata": {},
   "outputs": [],
   "source": []
  },
  {
   "cell_type": "code",
   "execution_count": null,
   "id": "a24f3d74-3506-4298-84bd-17b0123529dd",
   "metadata": {},
   "outputs": [],
   "source": [
    "qubits = 5\n",
    "backend = QasmSimulator()\n",
    "qde = QuantumCircuit(qubits, qubits)\n",
    "\n",
    "adjacency_matrix_list = []\n",
    "for row in range(weighted_matrix.shape[0]):\n",
    "    qde = QuantumCircuit(qubits, qubits)\n",
    "    qde = quantum_circuit(qde, 5, Square_array, row)\n",
    "    counts = measure_circuit(qde, backend, 2**5*100000)\n",
    "    ret_mat = retrieve_matrix_from_measurements(qubits, counts)\n",
    "    adjacency_matrix_list.append(ret_mat)\n",
    "\n",
    "\n",
    "\n",
    "\n",
    "\n",
    "\n"
   ]
  }
 ],
 "metadata": {
  "kernelspec": {
   "display_name": "Python 3 (ipykernel)",
   "language": "python",
   "name": "python3"
  },
  "language_info": {
   "codemirror_mode": {
    "name": "ipython",
    "version": 3
   },
   "file_extension": ".py",
   "mimetype": "text/x-python",
   "name": "python",
   "nbconvert_exporter": "python",
   "pygments_lexer": "ipython3",
   "version": "3.8.10"
  },
  "widgets": {
   "application/vnd.jupyter.widget-state+json": {
    "state": {
     "025ecbe38c79423cb966abc0c20956de": {
      "model_module": "@jupyter-widgets/base",
      "model_module_version": "2.0.0",
      "model_name": "LayoutModel",
      "state": {
       "grid_template_areas": "\n                                       \". . . . right \"\n                                        ",
       "grid_template_columns": "20% 20% 20% 20% 20%",
       "width": "100%"
      }
     },
     "16afb816888a4333976c17949b91ef39": {
      "model_module": "@jupyter-widgets/controls",
      "model_module_version": "2.0.0",
      "model_name": "HTMLModel",
      "state": {
       "layout": "IPY_MODEL_202344c3c19f44ff89364d1ceb0a42e7",
       "style": "IPY_MODEL_ac433081ee804f64b1421a2e7ad3f76e",
       "value": "<p style='font-family: IBM Plex Sans, Arial, Helvetica, sans-serif; font-size: 20px; font-weight: medium;'>Circuit Properties</p>"
      }
     },
     "1b38eab3be2f42b0aba84b2a672f42cf": {
      "model_module": "@jupyter-widgets/base",
      "model_module_version": "2.0.0",
      "model_name": "LayoutModel",
      "state": {
       "width": "70px"
      }
     },
     "202344c3c19f44ff89364d1ceb0a42e7": {
      "model_module": "@jupyter-widgets/base",
      "model_module_version": "2.0.0",
      "model_name": "LayoutModel",
      "state": {
       "margin": "0px 0px 10px 0px"
      }
     },
     "2b80e240a1064c45950c437319a1511a": {
      "model_module": "@jupyter-widgets/base",
      "model_module_version": "2.0.0",
      "model_name": "LayoutModel",
      "state": {
       "width": "95px"
      }
     },
     "2c3993afcb2f459e9f1a4dadde54258a": {
      "model_module": "@jupyter-widgets/controls",
      "model_module_version": "2.0.0",
      "model_name": "HTMLModel",
      "state": {
       "layout": "IPY_MODEL_d49e2197638c4783934b6605c71e1bf3",
       "style": "IPY_MODEL_b2968bf477ea4870a87d634858b03bf5",
       "value": "<h5>Job ID</h5>"
      }
     },
     "4896629cad3045f7983415bece459740": {
      "model_module": "@jupyter-widgets/base",
      "model_module_version": "2.0.0",
      "model_name": "LayoutModel",
      "state": {
       "margin": "0px 0px 0px 37px",
       "width": "600px"
      }
     },
     "52027b7dde2a467e96c1fb5db95b5f4e": {
      "model_module": "@jupyter-widgets/controls",
      "model_module_version": "2.0.0",
      "model_name": "GridBoxModel",
      "state": {
       "children": [
        "IPY_MODEL_a791f47dff734981b879d6dba5159399"
       ],
       "layout": "IPY_MODEL_025ecbe38c79423cb966abc0c20956de"
      }
     },
     "77cd1b267eb14b709389b6abc6831e16": {
      "model_module": "@jupyter-widgets/controls",
      "model_module_version": "2.0.0",
      "model_name": "HTMLStyleModel",
      "state": {
       "description_width": "",
       "font_size": null,
       "text_color": null
      }
     },
     "77f4c63a80be4535acab47dc349ac1f9": {
      "model_module": "@jupyter-widgets/controls",
      "model_module_version": "2.0.0",
      "model_name": "HTMLModel",
      "state": {
       "layout": "IPY_MODEL_e7b2e027b44c47cf88d001c3012ef672",
       "style": "IPY_MODEL_797da6202bbf4a3fabd68674cf97e263",
       "value": "<h5>Message</h5>"
      }
     },
     "797da6202bbf4a3fabd68674cf97e263": {
      "model_module": "@jupyter-widgets/controls",
      "model_module_version": "2.0.0",
      "model_name": "HTMLStyleModel",
      "state": {
       "description_width": "",
       "font_size": null,
       "text_color": null
      }
     },
     "7ed3aca0b60a4a93a871bcce7ac60ee1": {
      "model_module": "@jupyter-widgets/controls",
      "model_module_version": "2.0.0",
      "model_name": "HBoxModel",
      "state": {
       "children": [
        "IPY_MODEL_2c3993afcb2f459e9f1a4dadde54258a",
        "IPY_MODEL_a432398edfdf411994585f6b66383c71",
        "IPY_MODEL_a18c61f52bc14c348caea199c98f2ad5",
        "IPY_MODEL_e9f9c6d41e3f4784b9c84723a339aafe",
        "IPY_MODEL_77f4c63a80be4535acab47dc349ac1f9"
       ],
       "layout": "IPY_MODEL_4896629cad3045f7983415bece459740"
      }
     },
     "a18c61f52bc14c348caea199c98f2ad5": {
      "model_module": "@jupyter-widgets/controls",
      "model_module_version": "2.0.0",
      "model_name": "HTMLModel",
      "state": {
       "layout": "IPY_MODEL_2b80e240a1064c45950c437319a1511a",
       "style": "IPY_MODEL_a472bcb22bc1476f98665b3bfa30fbc5",
       "value": "<h5>Status</h5>"
      }
     },
     "a432398edfdf411994585f6b66383c71": {
      "model_module": "@jupyter-widgets/controls",
      "model_module_version": "2.0.0",
      "model_name": "HTMLModel",
      "state": {
       "layout": "IPY_MODEL_f56a00f738ae4185a9977cf850a40af4",
       "style": "IPY_MODEL_c1c7215c48c34c7b8f02f3b7a446a3d0",
       "value": "<h5>Backend</h5>"
      }
     },
     "a472bcb22bc1476f98665b3bfa30fbc5": {
      "model_module": "@jupyter-widgets/controls",
      "model_module_version": "2.0.0",
      "model_name": "HTMLStyleModel",
      "state": {
       "description_width": "",
       "font_size": null,
       "text_color": null
      }
     },
     "a791f47dff734981b879d6dba5159399": {
      "model_module": "@jupyter-widgets/controls",
      "model_module_version": "2.0.0",
      "model_name": "ButtonModel",
      "state": {
       "button_style": "primary",
       "description": "Clear",
       "layout": "IPY_MODEL_d87bf82895e1476cbc9f8f9d255b9f3a",
       "style": "IPY_MODEL_a9f00851cbb24fd68dc0cc87c29590ee",
       "tooltip": null
      }
     },
     "a9f00851cbb24fd68dc0cc87c29590ee": {
      "model_module": "@jupyter-widgets/controls",
      "model_module_version": "2.0.0",
      "model_name": "ButtonStyleModel",
      "state": {
       "font_family": null,
       "font_size": null,
       "font_style": null,
       "font_variant": null,
       "font_weight": null,
       "text_color": null,
       "text_decoration": null
      }
     },
     "ac433081ee804f64b1421a2e7ad3f76e": {
      "model_module": "@jupyter-widgets/controls",
      "model_module_version": "2.0.0",
      "model_name": "HTMLStyleModel",
      "state": {
       "description_width": "",
       "font_size": null,
       "text_color": null
      }
     },
     "b2968bf477ea4870a87d634858b03bf5": {
      "model_module": "@jupyter-widgets/controls",
      "model_module_version": "2.0.0",
      "model_name": "HTMLStyleModel",
      "state": {
       "description_width": "",
       "font_size": null,
       "text_color": null
      }
     },
     "c1c7215c48c34c7b8f02f3b7a446a3d0": {
      "model_module": "@jupyter-widgets/controls",
      "model_module_version": "2.0.0",
      "model_name": "HTMLStyleModel",
      "state": {
       "description_width": "",
       "font_size": null,
       "text_color": null
      }
     },
     "d49e2197638c4783934b6605c71e1bf3": {
      "model_module": "@jupyter-widgets/base",
      "model_module_version": "2.0.0",
      "model_name": "LayoutModel",
      "state": {
       "width": "190px"
      }
     },
     "d87bf82895e1476cbc9f8f9d255b9f3a": {
      "model_module": "@jupyter-widgets/base",
      "model_module_version": "2.0.0",
      "model_name": "LayoutModel",
      "state": {
       "grid_area": "right",
       "padding": "0px 0px 0px 0px",
       "width": "70px"
      }
     },
     "e7b2e027b44c47cf88d001c3012ef672": {
      "model_module": "@jupyter-widgets/base",
      "model_module_version": "2.0.0",
      "model_name": "LayoutModel",
      "state": {}
     },
     "e9f9c6d41e3f4784b9c84723a339aafe": {
      "model_module": "@jupyter-widgets/controls",
      "model_module_version": "2.0.0",
      "model_name": "HTMLModel",
      "state": {
       "layout": "IPY_MODEL_1b38eab3be2f42b0aba84b2a672f42cf",
       "style": "IPY_MODEL_77cd1b267eb14b709389b6abc6831e16",
       "value": "<h5>Queue</h5>"
      }
     },
     "f56a00f738ae4185a9977cf850a40af4": {
      "model_module": "@jupyter-widgets/base",
      "model_module_version": "2.0.0",
      "model_name": "LayoutModel",
      "state": {
       "width": "145px"
      }
     }
    },
    "version_major": 2,
    "version_minor": 0
   }
  }
 },
 "nbformat": 4,
 "nbformat_minor": 5
}
